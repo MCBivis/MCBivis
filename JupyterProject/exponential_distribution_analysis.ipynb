{
 "cells": [
  {
   "metadata": {},
   "cell_type": "markdown",
   "source": [
    "# Анализ двустороннего экспоненциального распределения\n",
    "Импорт необходимых библиотек и настройка параметров"
   ],
   "id": "785e604466f3d41f"
  },
  {
   "metadata": {},
   "cell_type": "code",
   "source": [
    "import numpy as np\n",
    "from scipy import stats\n",
    "from scipy.optimize import Bounds, minimize\n",
    "\n",
    "# Задаем параметры\n",
    "n = 1000  # размер выборки\n",
    "lambda_true = 2  # истинное значение параметра λ\n",
    "a = 0  # параметр сдвига\n",
    "alpha = 4  # известный параметр\n",
    "\n",
    "# Генерация выборки из двустороннего экспоненциального распределения\n",
    "np.random.seed(42)\n",
    "u = np.random.uniform(0, 1, n)\n",
    "X = np.zeros(n)\n",
    "\n",
    "for i in range(n):\n",
    "    if u[i] < 0.5:\n",
    "        X[i] = a - (1/lambda_true) * np.log(2*u[i])\n",
    "    else:\n",
    "        X[i] = a + (1/lambda_true) * np.log(2*(1-u[i]))"
   ],
   "id": "e640c64eeab5d7ce",
   "outputs": [],
   "execution_count": null
  },
  {
   "metadata": {},
   "cell_type": "markdown",
   "source": [
    "## 1.1 Числовые характеристики модели\n",
    "Вычисление математического ожидания и дисперсии"
   ],
   "id": "b994ac682c85de89"
  },
  {
   "metadata": {},
   "cell_type": "code",
   "source": [
    "# Теоретические значения\n",
    "theoretical_mean = a\n",
    "theoretical_variance = 2 / (lambda_true**2)\n",
    "\n",
    "print(f\"Теоретическое математическое ожидание: {theoretical_mean}\")\n",
    "print(f\"Теоретическая дисперсия: {theoretical_variance}\")\n",
    "\n",
    "# Выборочные значения\n",
    "sample_mean = np.mean(X)\n",
    "sample_variance = np.var(X)\n",
    "\n",
    "print(f\"\\nВыборочное среднее: {sample_mean:.4f}\")\n",
    "print(f\"Выборочная дисперсия: {sample_variance:.4f}\")"
   ],
   "id": "68180da5ba62abcc",
   "outputs": [],
   "execution_count": null
  },
  {
   "metadata": {},
   "cell_type": "markdown",
   "source": "## 1.2 Оценка параметра λ методом максимального правдоподобия",
   "id": "c865938eca0b9d47"
  },
  {
   "metadata": {},
   "cell_type": "code",
   "source": [
    "# Функция правдоподобия (отрицательный логарифм)\n",
    "def neg_log_likelihood(omega):\n",
    "    # Вычисление первого терма\n",
    "    term1 = -n * np.log(omega)\n",
    "\n",
    "    # Вычисление второго терма\n",
    "    term2 = -n * np.log(2)\n",
    "\n",
    "    # Вычисление третьего терма\n",
    "    term3 = omega * np.sum(np.abs(X - a))\n",
    "\n",
    "    # Суммируем все термы\n",
    "    # Используем item() для получения скалярного значения\n",
    "    result = (term1 + term2 + term3).item()\n",
    "\n",
    "    return result\n",
    "\n",
    "\n",
    "\n",
    "\n",
    "\n",
    "# Начальное приближение на основе метода моментов\n",
    "initial_omega = np.sqrt(2 / sample_variance)\n",
    "\n",
    "# Поиск оценки максимального правдоподобия с ограничениями\n",
    "bounds = [(0.1, 10.0)]\n",
    "result = minimize(neg_log_likelihood,\n",
    "                 x0=initial_omega,\n",
    "                 method='L-BFGS-B',\n",
    "                 bounds=bounds,\n",
    "                 options={'disp': True})\n",
    "\n",
    "omega_mle = result.x[0]\n",
    "\n",
    "\n",
    "print(f\"Начальное приближение ω (метод моментов): {initial_omega:.4f}\")\n",
    "print(f\"Оценка ω методом максимального правдоподобия: {omega_mle:.4f}\")"
   ],
   "id": "11869a9fe56e17fd",
   "outputs": [],
   "execution_count": null
  },
  {
   "metadata": {},
   "cell_type": "markdown",
   "source": "## 1.3 Асимптотический доверительный интервал",
   "id": "a16c2bd442365c70"
  },
  {
   "metadata": {},
   "cell_type": "code",
   "source": [
    "# Вычисление асимптотического доверительного интервала\n",
    "fisher_info = n / (omega_mle**2)\n",
    "std_error = np.sqrt(1/fisher_info)\n",
    "\n",
    "# Доверительный интервал (95%)\n",
    "z_score = stats.norm.ppf(0.975)\n",
    "ci_lower = omega_mle - z_score * std_error\n",
    "ci_upper = omega_mle + z_score * std_error\n",
    "\n",
    "print(f\"95% доверительный интервал для ω: ({ci_lower:.4f}, {ci_upper:.4f})\")"
   ],
   "id": "ed7100aaf9ade8a7",
   "outputs": [],
   "execution_count": null
  }
 ],
 "metadata": {
  "kernelspec": {
   "display_name": "Python 3",
   "language": "python",
   "name": "python3"
  },
  "language_info": {
   "codemirror_mode": {
    "name": "ipython",
    "version": 2
   },
   "file_extension": ".py",
   "mimetype": "text/x-python",
   "name": "python",
   "nbconvert_exporter": "python",
   "pygments_lexer": "ipython2",
   "version": "2.7.6"
  }
 },
 "nbformat": 4,
 "nbformat_minor": 5
}
